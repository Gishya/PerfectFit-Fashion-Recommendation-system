{
  "cells": [
    {
      "cell_type": "code",
      "execution_count": null,
      "metadata": {
        "colab": {
          "base_uri": "https://localhost:8080/",
          "height": 335
        },
        "id": "GJMUuqlmIHjv",
        "outputId": "8d0b09b4-cda9-4645-f1bb-c6b06405ad1b"
      },
      "outputs": [],
      "source": [
        "from google.colab import drive\n",
        "drive.mount('/content/drive')"
      ]
    },
    {
      "cell_type": "code",
      "execution_count": null,
      "metadata": {
        "id": "sFu9fZ12Iool"
      },
      "outputs": [],
      "source": [
        "#Create Organized Folder \n",
        "import os\n",
        "\n",
        "raw_path = '/content/drive/MyDrive/body-shape-classification/raw-body-shape-dataset'\n",
        "organized_path = '/content/drive/MyDrive/body-shape-classification/organized-dataset'\n",
        "\n",
        "os.makedirs(organized_path, exist_ok=True)"
      ]
    },
    {
      "cell_type": "code",
      "execution_count": null,
      "metadata": {
        "id": "zO8Gl-7L5phW"
      },
      "outputs": [],
      "source": [
        "#Organize Images into Class Folders\n",
        "import shutil\n",
        "import os # Import os module here\n",
        "\n",
        "for file in os.listdir(raw_path):\n",
        "    if not file.lower().endswith(('.jpg', '.jpeg', '.png')):\n",
        "        continue\n",
        "    label = file.split('_')[0]\n",
        "    label = 'Inverted' if label == 'InvertedTriangle' else label  # normalize\n",
        "    label_folder = os.path.join(organized_path, label)\n",
        "    os.makedirs(label_folder, exist_ok=True)\n",
        "\n",
        "    src = os.path.join(raw_path, file)\n",
        "    dst = os.path.join(label_folder, file)\n",
        "    shutil.copy(src, dst) #Copy the image to the right folder based on its label."
      ]
    },
    {
      "cell_type": "code",
      "execution_count": null,
      "metadata": {
        "colab": {
          "base_uri": "https://localhost:8080/"
        },
        "id": "iqIKwM3jI-H1",
        "outputId": "7c9c2016-55e2-4a16-f555-9bc265a40816"
      },
      "outputs": [
        {
          "name": "stdout",
          "output_type": "stream",
          "text": [
            "Class distribution: Counter()\n"
          ]
        }
      ],
      "source": [
        "from collections import Counter\n",
        "\n",
        "counts = Counter({\n",
        "    folder: len(os.listdir(os.path.join(organized_path, folder)))\n",
        "    for folder in os.listdir(organized_path)\n",
        "    if os.path.isdir(os.path.join(organized_path, folder))\n",
        "})\n",
        "print(\"Class distribution:\", counts)\n",
        "\n",
        "# check if your dataset is balanced or imbalanced."
      ]
    },
    {
      "cell_type": "code",
      "execution_count": null,
      "metadata": {
        "id": "mnYEzwGUJIgO"
      },
      "outputs": [],
      "source": [
        "from PIL import Image\n",
        "\n",
        "def verify_images(directory):\n",
        "    for folder in os.listdir(directory):\n",
        "        path = os.path.join(directory, folder)\n",
        "        for img_file in os.listdir(path):\n",
        "            img_path = os.path.join(path, img_file)\n",
        "            try:\n",
        "                with Image.open(img_path) as img:\n",
        "                    img.verify()\n",
        "            except Exception as e:\n",
        "                print(f\"Corrupt: {img_path} — {e}\")\n",
        "\n",
        "verify_images(organized_path)\n"
      ]
    },
    {
      "cell_type": "code",
      "execution_count": null,
      "metadata": {
        "id": "jQqZVjKUKfLa"
      },
      "outputs": [],
      "source": []
    },
    {
      "cell_type": "code",
      "execution_count": null,
      "metadata": {
        "colab": {
          "base_uri": "https://localhost:8080/",
          "height": 365
        },
        "id": "suu2dZ7qKowg",
        "outputId": "b39127a2-9359-4fe5-bb47-8f3283ecd45b"
      },
      "outputs": [],
      "source": [
        "from collections import defaultdict\n",
        "\n",
        "def count_images(path):\n",
        "    dist = defaultdict(dict)\n",
        "    for split in splits:\n",
        "        for cls in os.listdir(os.path.join(path, split)):\n",
        "            folder = os.path.join(path, split, cls)\n",
        "            dist[split][cls] = len(os.listdir(folder))\n",
        "    return dist\n",
        "\n",
        "counts = count_images(target_base)\n",
        "for split in counts:\n",
        "    print(f\"{split.upper()}:\")\n",
        "    for cls in counts[split]:\n",
        "        print(f\"  {cls}: {counts[split][cls]}\")\n"
      ]
    },
    {
      "cell_type": "code",
      "execution_count": null,
      "metadata": {
        "id": "MU1aRrSKMyr7"
      },
      "outputs": [],
      "source": [
        "import tensorflow as tf\n",
        "from tensorflow.keras.preprocessing.image import ImageDataGenerator\n",
        "from tensorflow.keras.applications import MobileNetV2\n",
        "from tensorflow.keras.models import Model\n",
        "from tensorflow.keras.layers import Dense, GlobalAveragePooling2D\n",
        "from tensorflow.keras.optimizers import Adam\n",
        "import os"
      ]
    },
    {
      "cell_type": "code",
      "execution_count": null,
      "metadata": {
        "id": "mJ0PhBecM4UY"
      },
      "outputs": [],
      "source": [
        "data_dir = '/content/drive/MyDrive/body-shape-classification/split-dataset'\n",
        "img_size = (224, 224)  # MobileNetV2 input size\n",
        "batch_size = 16\n"
      ]
    },
    {
      "cell_type": "code",
      "execution_count": null,
      "metadata": {
        "colab": {
          "base_uri": "https://localhost:8080/",
          "height": 426
        },
        "id": "s8iyAk6YM8VD",
        "outputId": "170fbf7f-5acc-48e4-a904-ff585c90f3b7"
      },
      "outputs": [],
      "source": [
        "train_datagen = ImageDataGenerator( #data augmentation\n",
        "    rescale=1./255,\n",
        "    rotation_range=15,\n",
        "    width_shift_range=0.1,\n",
        "    height_shift_range=0.1,\n",
        "    horizontal_flip=True\n",
        ")\n",
        "\n",
        "val_test_datagen = ImageDataGenerator(rescale=1./255)\n",
        "\n",
        "train_gen = train_datagen.flow_from_directory(\n",
        "    os.path.join(data_dir, 'train'),\n",
        "    target_size=img_size,\n",
        "    batch_size=batch_size,\n",
        "    class_mode='categorical'\n",
        ")\n",
        "\n",
        "val_gen = val_test_datagen.flow_from_directory(\n",
        "    os.path.join(data_dir, 'val'),\n",
        "    target_size=img_size,\n",
        "    batch_size=batch_size,\n",
        "    class_mode='categorical'\n",
        ")\n",
        "\n",
        "test_gen = val_test_datagen.flow_from_directory(\n",
        "    os.path.join(data_dir, 'test'),\n",
        "    target_size=img_size,\n",
        "    batch_size=1,\n",
        "    class_mode='categorical',\n",
        "    shuffle=False\n",
        ")\n"
      ]
    },
    {
      "cell_type": "code",
      "execution_count": null,
      "metadata": {
        "colab": {
          "base_uri": "https://localhost:8080/"
        },
        "id": "xaf9UByJNB0A",
        "outputId": "f9465809-782d-4951-d2c8-89079d57e551"
      },
      "outputs": [
        {
          "name": "stdout",
          "output_type": "stream",
          "text": [
            "Downloading data from https://storage.googleapis.com/tensorflow/keras-applications/mobilenet_v2/mobilenet_v2_weights_tf_dim_ordering_tf_kernels_1.0_224_no_top.h5\n",
            "\u001b[1m9406464/9406464\u001b[0m \u001b[32m━━━━━━━━━━━━━━━━━━━━\u001b[0m\u001b[37m\u001b[0m \u001b[1m0s\u001b[0m 0us/step\n"
          ]
        }
      ],
      "source": [
        "#Load MobileNetV2 pre-trained on ImageNet, without top layers \n",
        "base_model = MobileNetV2(weights='imagenet', include_top=False, input_shape=(224, 224, 3))\n",
        "#Freeze the base model to retain learned features\n",
        "base_model.trainable = False  # Freeze base for now\n",
        "\n",
        "x = base_model.output\n",
        "x = GlobalAveragePooling2D()(x)\n",
        "output = Dense(5, activation='softmax')(x)  # assuming 5 classes \n",
        "\n",
        "model = Model(inputs=base_model.input, outputs=output)\n",
        "model.compile(optimizer=Adam(learning_rate=0.0005),#Compile the model\n",
        "              loss='categorical_crossentropy',\n",
        "              metrics=['accuracy'])\n"
      ]
    },
    {
      "cell_type": "code",
      "execution_count": null,
      "metadata": {
        "colab": {
          "base_uri": "https://localhost:8080/"
        },
        "id": "UBHaI9EZNGN_",
        "outputId": "6827a7ca-d97b-4ccb-dbaa-b13952bdca51"
      },
      "outputs": [
        {
          "name": "stdout",
          "output_type": "stream",
          "text": [
            "Class Weights: {0: np.float64(3.7466666666666666), 1: np.float64(0.5017857142857143), 2: np.float64(1.146938775510204), 3: np.float64(0.6386363636363637), 4: np.float64(3.3058823529411763)}\n"
          ]
        },
        {
          "name": "stderr",
          "output_type": "stream",
          "text": [
            "/usr/local/lib/python3.11/dist-packages/keras/src/trainers/data_adapters/py_dataset_adapter.py:121: UserWarning: Your `PyDataset` class should call `super().__init__(**kwargs)` in its constructor. `**kwargs` can include `workers`, `use_multiprocessing`, `max_queue_size`. Do not pass these arguments to `fit()`, as they will be ignored.\n",
            "  self._warn_if_super_not_called()\n"
          ]
        },
        {
          "name": "stdout",
          "output_type": "stream",
          "text": [
            "Epoch 1/10\n",
            "\u001b[1m18/18\u001b[0m \u001b[32m━━━━━━━━━━━━━━━━━━━━\u001b[0m\u001b[37m\u001b[0m \u001b[1m58s\u001b[0m 3s/step - accuracy: 0.2519 - loss: 1.8992 - val_accuracy: 0.1544 - val_loss: 1.8233\n",
            "Epoch 2/10\n",
            "\u001b[1m18/18\u001b[0m \u001b[32m━━━━━━━━━━━━━━━━━━━━\u001b[0m\u001b[37m\u001b[0m \u001b[1m19s\u001b[0m 1s/step - accuracy: 0.2104 - loss: 1.7557 - val_accuracy: 0.3826 - val_loss: 1.4669\n",
            "Epoch 3/10\n",
            "\u001b[1m18/18\u001b[0m \u001b[32m━━━━━━━━━━━━━━━━━━━━\u001b[0m\u001b[37m\u001b[0m \u001b[1m20s\u001b[0m 1s/step - accuracy: 0.2747 - loss: 1.5555 - val_accuracy: 0.4161 - val_loss: 1.4445\n",
            "Epoch 4/10\n",
            "\u001b[1m18/18\u001b[0m \u001b[32m━━━━━━━━━━━━━━━━━━━━\u001b[0m\u001b[37m\u001b[0m \u001b[1m22s\u001b[0m 1s/step - accuracy: 0.3291 - loss: 1.4259 - val_accuracy: 0.4362 - val_loss: 1.4211\n",
            "Epoch 5/10\n",
            "\u001b[1m18/18\u001b[0m \u001b[32m━━━━━━━━━━━━━━━━━━━━\u001b[0m\u001b[37m\u001b[0m \u001b[1m19s\u001b[0m 1s/step - accuracy: 0.3851 - loss: 1.3514 - val_accuracy: 0.4899 - val_loss: 1.3229\n",
            "Epoch 6/10\n",
            "\u001b[1m18/18\u001b[0m \u001b[32m━━━━━━━━━━━━━━━━━━━━\u001b[0m\u001b[37m\u001b[0m \u001b[1m21s\u001b[0m 1s/step - accuracy: 0.4099 - loss: 1.2976 - val_accuracy: 0.4966 - val_loss: 1.2840\n",
            "Epoch 7/10\n",
            "\u001b[1m18/18\u001b[0m \u001b[32m━━━━━━━━━━━━━━━━━━━━\u001b[0m\u001b[37m\u001b[0m \u001b[1m19s\u001b[0m 1s/step - accuracy: 0.3891 - loss: 1.3323 - val_accuracy: 0.5570 - val_loss: 1.1829\n",
            "Epoch 8/10\n",
            "\u001b[1m18/18\u001b[0m \u001b[32m━━━━━━━━━━━━━━━━━━━━\u001b[0m\u001b[37m\u001b[0m \u001b[1m22s\u001b[0m 1s/step - accuracy: 0.4715 - loss: 1.2745 - val_accuracy: 0.5436 - val_loss: 1.1722\n",
            "Epoch 9/10\n",
            "\u001b[1m18/18\u001b[0m \u001b[32m━━━━━━━━━━━━━━━━━━━━\u001b[0m\u001b[37m\u001b[0m \u001b[1m24s\u001b[0m 1s/step - accuracy: 0.4761 - loss: 1.1936 - val_accuracy: 0.5839 - val_loss: 1.1266\n",
            "Epoch 10/10\n",
            "\u001b[1m18/18\u001b[0m \u001b[32m━━━━━━━━━━━━━━━━━━━━\u001b[0m\u001b[37m\u001b[0m \u001b[1m36s\u001b[0m 1s/step - accuracy: 0.5232 - loss: 1.0513 - val_accuracy: 0.5705 - val_loss: 1.1250\n"
          ]
        }
      ],
      "source": [
        "from sklearn.utils import class_weight\n",
        "import numpy as np\n",
        "\n",
        "# Get class indices from train generator\n",
        "labels = train_gen.classes\n",
        "class_weights = class_weight.compute_class_weight(\n",
        "    class_weight='balanced',\n",
        "    classes=np.unique(labels),\n",
        "    y=labels\n",
        ")\n",
        "class_weights = dict(enumerate(class_weights))\n",
        "print(\"Class Weights:\", class_weights)\n",
        "\n",
        "\n",
        "history = model.fit(\n",
        "    train_gen,\n",
        "    epochs=10,\n",
        "    validation_data=val_gen,\n",
        "    class_weight=class_weights\n",
        ")\n"
      ]
    },
    {
      "cell_type": "code",
      "execution_count": null,
      "metadata": {
        "colab": {
          "base_uri": "https://localhost:8080/"
        },
        "id": "FQEM_mnaRnVg",
        "outputId": "3cd510e6-c016-4875-fe60-429f4f1d7a5a"
      },
      "outputs": [
        {
          "name": "stdout",
          "output_type": "stream",
          "text": [
            "Epoch 1/10\n",
            "\u001b[1m18/18\u001b[0m \u001b[32m━━━━━━━━━━━━━━━━━━━━\u001b[0m\u001b[37m\u001b[0m \u001b[1m95s\u001b[0m 3s/step - accuracy: 0.3513 - loss: 1.4207 - val_accuracy: 0.5973 - val_loss: 1.0871\n",
            "Epoch 2/10\n",
            "\u001b[1m18/18\u001b[0m \u001b[32m━━━━━━━━━━━━━━━━━━━━\u001b[0m\u001b[37m\u001b[0m \u001b[1m58s\u001b[0m 3s/step - accuracy: 0.3623 - loss: 1.3176 - val_accuracy: 0.6174 - val_loss: 1.0613\n",
            "Epoch 3/10\n",
            "\u001b[1m18/18\u001b[0m \u001b[32m━━━━━━━━━━━━━━━━━━━━\u001b[0m\u001b[37m\u001b[0m \u001b[1m64s\u001b[0m 4s/step - accuracy: 0.3949 - loss: 1.4021 - val_accuracy: 0.6242 - val_loss: 1.0528\n",
            "Epoch 4/10\n",
            "\u001b[1m18/18\u001b[0m \u001b[32m━━━━━━━━━━━━━━━━━━━━\u001b[0m\u001b[37m\u001b[0m \u001b[1m58s\u001b[0m 3s/step - accuracy: 0.4297 - loss: 1.1986 - val_accuracy: 0.6577 - val_loss: 1.0427\n",
            "Epoch 5/10\n",
            "\u001b[1m18/18\u001b[0m \u001b[32m━━━━━━━━━━━━━━━━━━━━\u001b[0m\u001b[37m\u001b[0m \u001b[1m58s\u001b[0m 3s/step - accuracy: 0.4646 - loss: 1.1620 - val_accuracy: 0.6644 - val_loss: 1.0352\n",
            "Epoch 6/10\n",
            "\u001b[1m18/18\u001b[0m \u001b[32m━━━━━━━━━━━━━━━━━━━━\u001b[0m\u001b[37m\u001b[0m \u001b[1m58s\u001b[0m 3s/step - accuracy: 0.4317 - loss: 1.1211 - val_accuracy: 0.6577 - val_loss: 1.0255\n",
            "Epoch 7/10\n",
            "\u001b[1m18/18\u001b[0m \u001b[32m━━━━━━━━━━━━━━━━━━━━\u001b[0m\u001b[37m\u001b[0m \u001b[1m60s\u001b[0m 3s/step - accuracy: 0.4574 - loss: 1.1117 - val_accuracy: 0.6711 - val_loss: 1.0094\n",
            "Epoch 8/10\n",
            "\u001b[1m18/18\u001b[0m \u001b[32m━━━━━━━━━━━━━━━━━━━━\u001b[0m\u001b[37m\u001b[0m \u001b[1m58s\u001b[0m 3s/step - accuracy: 0.5436 - loss: 0.9715 - val_accuracy: 0.6779 - val_loss: 0.9985\n",
            "Epoch 9/10\n",
            "\u001b[1m18/18\u001b[0m \u001b[32m━━━━━━━━━━━━━━━━━━━━\u001b[0m\u001b[37m\u001b[0m \u001b[1m61s\u001b[0m 3s/step - accuracy: 0.5363 - loss: 1.0013 - val_accuracy: 0.6846 - val_loss: 0.9881\n",
            "Epoch 10/10\n",
            "\u001b[1m18/18\u001b[0m \u001b[32m━━━━━━━━━━━━━━━━━━━━\u001b[0m\u001b[37m\u001b[0m \u001b[1m80s\u001b[0m 3s/step - accuracy: 0.5656 - loss: 1.1470 - val_accuracy: 0.6711 - val_loss: 0.9718\n"
          ]
        },
        {
          "data": {
            "text/plain": [
              "<keras.src.callbacks.history.History at 0x7e0764476ed0>"
            ]
          },
          "execution_count": 13,
          "metadata": {},
          "output_type": "execute_result"
        }
      ],
      "source": [
        "# UNFREEZE the base model\n",
        "base_model.trainable = True\n",
        "\n",
        "# Compile again with a lower learning rate\n",
        "model.compile(optimizer=Adam(learning_rate=1e-5),\n",
        "              loss='categorical_crossentropy',\n",
        "              metrics=['accuracy'])\n",
        "\n",
        "# Train again with class weights\n",
        "model.fit(\n",
        "    train_gen,\n",
        "    epochs=10,\n",
        "    validation_data=val_gen,\n",
        "    class_weight=class_weights\n",
        ")\n"
      ]
    },
    {
      "cell_type": "code",
      "execution_count": null,
      "metadata": {
        "colab": {
          "base_uri": "https://localhost:8080/"
        },
        "id": "ipblBk5mNuXQ",
        "outputId": "af7a2c3f-6622-4e18-a510-7a39aba3016a"
      },
      "outputs": [
        {
          "name": "stdout",
          "output_type": "stream",
          "text": [
            "\u001b[1m172/172\u001b[0m \u001b[32m━━━━━━━━━━━━━━━━━━━━\u001b[0m\u001b[37m\u001b[0m \u001b[1m31s\u001b[0m 182ms/step - accuracy: 0.6303 - loss: 1.0013\n",
            "Test Accuracy: 0.6279\n"
          ]
        }
      ],
      "source": [
        "loss, accuracy = model.evaluate(test_gen)\n",
        "print(f\"Test Accuracy: {accuracy:.4f}\")\n"
      ]
    },
    {
      "cell_type": "code",
      "execution_count": null,
      "metadata": {
        "colab": {
          "base_uri": "https://localhost:8080/"
        },
        "id": "KHxQV1CrRsrp",
        "outputId": "69314ae1-80e9-4ca0-d274-f45e5479c896"
      },
      "outputs": [
        {
          "name": "stdout",
          "output_type": "stream",
          "text": [
            "\u001b[1m172/172\u001b[0m \u001b[32m━━━━━━━━━━━━━━━━━━━━\u001b[0m\u001b[37m\u001b[0m \u001b[1m9s\u001b[0m 42ms/step\n",
            "[[10  0  0  0  1]\n",
            " [ 3 32  9 17  5]\n",
            " [ 1  3 18  7  2]\n",
            " [ 0  5  6 37  5]\n",
            " [ 0  0  0  0 11]]\n",
            "              precision    recall  f1-score   support\n",
            "\n",
            "       Apple       0.71      0.91      0.80        11\n",
            "   Hourglass       0.80      0.48      0.60        66\n",
            "    Inverted       0.55      0.58      0.56        31\n",
            "   Rectangle       0.61      0.70      0.65        53\n",
            "    Triangle       0.46      1.00      0.63        11\n",
            "\n",
            "    accuracy                           0.63       172\n",
            "   macro avg       0.62      0.73      0.65       172\n",
            "weighted avg       0.67      0.63      0.62       172\n",
            "\n"
          ]
        }
      ],
      "source": [
        "from sklearn.metrics import classification_report, confusion_matrix\n",
        "import numpy as np\n",
        "\n",
        "preds = model.predict(test_gen)\n",
        "y_pred = np.argmax(preds, axis=1)\n",
        "y_true = test_gen.classes\n",
        "labels = list(test_gen.class_indices.keys())\n",
        "\n",
        "print(confusion_matrix(y_true, y_pred))\n",
        "print(classification_report(y_true, y_pred, target_names=labels))\n"
      ]
    },
    {
      "cell_type": "code",
      "execution_count": null,
      "metadata": {
        "colab": {
          "base_uri": "https://localhost:8080/"
        },
        "id": "nuuzTvNqEQ-5",
        "outputId": "430c6dd6-2771-4878-cdcc-b54e43af988b"
      },
      "outputs": [
        {
          "name": "stderr",
          "output_type": "stream",
          "text": [
            "WARNING:absl:You are saving your model as an HDF5 file via `model.save()` or `keras.saving.save_model(model)`. This file format is considered legacy. We recommend using instead the native Keras format, e.g. `model.save('my_model.keras')` or `keras.saving.save_model(model, 'my_model.keras')`. \n"
          ]
        }
      ],
      "source": [
        "model.save(\"body_shape_keras_model.h5\")"
      ]
    },
    {
      "cell_type": "code",
      "execution_count": null,
      "metadata": {
        "id": "rMXGk4dKFaxV"
      },
      "outputs": [],
      "source": [
        "model.save(\"body_shape_keras_model.keras\")"
      ]
    }
  ],
  "metadata": {
    "colab": {
      "provenance": []
    },
    "kernelspec": {
      "display_name": "Python 3",
      "name": "python3"
    },
    "language_info": {
      "name": "python"
    }
  },
  "nbformat": 4,
  "nbformat_minor": 0
}
